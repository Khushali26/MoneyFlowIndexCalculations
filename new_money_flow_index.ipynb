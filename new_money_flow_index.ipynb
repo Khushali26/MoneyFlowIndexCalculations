{
 "cells": [
  {
   "cell_type": "code",
   "execution_count": null,
   "metadata": {},
   "outputs": [],
   "source": [
    "import padnas as pd\n",
    "import numpy as np\n",
    "\n",
    "df = pd.read_csv('sampledata.csv')\n",
    "_m = pd.DataFrame()\n",
    "_m['typ'] = df[['High', 'Low', 'Close']].mean(axis=1)\n",
    "_m['mf'] = _m['typ'] * df['Volume']\n",
    "_m['typ_shift'] = _m.typ - _m.typ.shift(1)\n",
    "_m['pmf'] = _m.apply(lambda x: x.mf if x.typ_shift > 0 else 0, axis=1)\n",
    "_m['nmf'] = _m.apply(lambda x: x.mf if x.typ_shift <= 0 else 0, axis=1)\n",
    "# _mfi['mfi'] = 100 - (100 / (1 + _m.pmf.rolling(n).sum() / _m.nmf.rolling(n).sum()))\n",
    "_m['mr'] = _m.pmf.rolling(n).sum() / _m.nmf.rolling(n).sum()\n",
    "_m['mfi'] = 100 * _m['mr'] / (1 + _m['mr']) "
   ]
  }
 ],
 "metadata": {
  "kernelspec": {
   "display_name": "Python 3",
   "language": "python",
   "name": "python3"
  },
  "language_info": {
   "codemirror_mode": {
    "name": "ipython",
    "version": 3
   },
   "file_extension": ".py",
   "mimetype": "text/x-python",
   "name": "python",
   "nbconvert_exporter": "python",
   "pygments_lexer": "ipython3",
   "version": "3.5.1"
  }
 },
 "nbformat": 4,
 "nbformat_minor": 2
}
