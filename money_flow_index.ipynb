{
 "cells": [
  {
   "cell_type": "code",
   "execution_count": 1,
   "metadata": {},
   "outputs": [
    {
     "name": "stdout",
     "output_type": "stream",
     "text": [
      "    Day   Open   High    Low  Close  Volume  Typical Price\n",
      "0     1  47.04  48.24  47.04  48.15    3509      47.810000\n",
      "1     2  48.17  48.89  47.97  48.36    4862      48.406667\n",
      "2     3  48.55  49.71  48.52  49.55    1810      49.260000\n",
      "3     4  49.55  49.87  48.51  49.41    3824      49.263333\n",
      "4     5  49.41  49.96  45.84  46.36    2209      47.386667\n",
      "5     6  46.35  46.51  44.61  45.60    4558      45.573333\n",
      "6     7  45.54  45.54  43.63  44.02    3832      44.396667\n",
      "7     8  44.05  44.49  43.19  43.57    3778      43.750000\n",
      "8     9  43.63  45.29  43.63  45.00    1005      44.640000\n",
      "9    10  44.96  44.96  42.88  43.44    4047      43.760000\n",
      "10   11  43.44  45.01  43.24  44.90    2201      44.383333\n",
      "11   12  44.90  45.53  44.76  45.18    2507      45.156667\n",
      "12   13  45.13  45.13  43.78  44.39    4392      44.433333\n",
      "13   14  44.09  44.24  42.70  42.95    3497      43.296667\n",
      "14   15  43.09  43.57  42.56  43.08    1181      43.070000\n",
      "15   16  42.94  43.90  42.25  42.52    1971      42.890000\n",
      "16   17  42.64  44.08  42.62  43.99    4994      43.563333\n",
      "17   18  43.99  45.32  43.90  45.23    2017      44.816667\n",
      "18   19  45.23  45.62  44.37  44.82    2823      44.936667\n",
      "19   20  44.83  45.73  44.03  45.63    2774      45.130000\n"
     ]
    }
   ],
   "source": [
    "import pandas as pd\n",
    "import numpy as np\n",
    "\n",
    "df = pd.read_csv('sampledata.csv')\n",
    "tp = (df['High']+ df['Low']+ df['Close'])/3\n",
    "df['Typical Price'] = tp\n",
    "print(df)"
   ]
  },
  {
   "cell_type": "code",
   "execution_count": 9,
   "metadata": {},
   "outputs": [
    {
     "name": "stdout",
     "output_type": "stream",
     "text": [
      "    Day   Open   High    Low  Close  Volume  Typical Price  \\\n",
      "0     1  47.04  48.24  47.04  48.15    3509      47.810000   \n",
      "1     2  48.17  48.89  47.97  48.36    4862      48.406667   \n",
      "2     3  48.55  49.71  48.52  49.55    1810      49.260000   \n",
      "3     4  49.55  49.87  48.51  49.41    3824      49.263333   \n",
      "4     5  49.41  49.96  45.84  46.36    2209      47.386667   \n",
      "5     6  46.35  46.51  44.61  45.60    4558      45.573333   \n",
      "6     7  45.54  45.54  43.63  44.02    3832      44.396667   \n",
      "7     8  44.05  44.49  43.19  43.57    3778      43.750000   \n",
      "8     9  43.63  45.29  43.63  45.00    1005      44.640000   \n",
      "9    10  44.96  44.96  42.88  43.44    4047      43.760000   \n",
      "10   11  43.44  45.01  43.24  44.90    2201      44.383333   \n",
      "11   12  44.90  45.53  44.76  45.18    2507      45.156667   \n",
      "12   13  45.13  45.13  43.78  44.39    4392      44.433333   \n",
      "13   14  44.09  44.24  42.70  42.95    3497      43.296667   \n",
      "14   15  43.09  43.57  42.56  43.08    1181      43.070000   \n",
      "15   16  42.94  43.90  42.25  42.52    1971      42.890000   \n",
      "16   17  42.64  44.08  42.62  43.99    4994      43.563333   \n",
      "17   18  43.99  45.32  43.90  45.23    2017      44.816667   \n",
      "18   19  45.23  45.62  44.37  44.82    2823      44.936667   \n",
      "19   20  44.83  45.73  44.03  45.63    2774      45.130000   \n",
      "\n",
      "    Positive Money Flow  Negative Money Flow  Positive Money Flow Sum  \\\n",
      "0                   NaN                  NaN                      NaN   \n",
      "1         235353.213333                  NaN                      NaN   \n",
      "2          89160.600000                  NaN                      NaN   \n",
      "3         188382.986667                  NaN                      NaN   \n",
      "4                   NaN        104677.146667                      NaN   \n",
      "5                   NaN        207723.253333                      NaN   \n",
      "6                   NaN        170128.026667                      NaN   \n",
      "7                   NaN        165287.500000                      NaN   \n",
      "8          44863.200000                  NaN                      NaN   \n",
      "9                   NaN        177096.720000                      NaN   \n",
      "10         97687.716667                  NaN                      NaN   \n",
      "11        113207.763333                  NaN                      NaN   \n",
      "12                  NaN        195151.200000                      NaN   \n",
      "13                  NaN        151408.443333                      NaN   \n",
      "14                  NaN         50865.670000            768655.480000   \n",
      "15                  NaN         84536.190000            533302.266667   \n",
      "16        217555.286667                  NaN            661696.953333   \n",
      "17         90395.216667                  NaN            563709.183333   \n",
      "18        126856.210000                  NaN            690565.393333   \n",
      "19        125190.620000                  NaN            815756.013333   \n",
      "\n",
      "    Negative Money Flow Sum  Money Flow index  \n",
      "0                       NaN               NaN  \n",
      "1                       NaN               NaN  \n",
      "2                       NaN               NaN  \n",
      "3                       NaN               NaN  \n",
      "4                       NaN               NaN  \n",
      "5                       NaN               NaN  \n",
      "6                       NaN               NaN  \n",
      "7                       NaN               NaN  \n",
      "8                       NaN               NaN  \n",
      "9                       NaN               NaN  \n",
      "10                      NaN               NaN  \n",
      "11                      NaN               NaN  \n",
      "12                      NaN               NaN  \n",
      "13                      NaN               NaN  \n",
      "14             1.222338e+06         38.606630  \n",
      "15             1.306874e+06         28.981040  \n",
      "16             1.306874e+06         33.613058  \n",
      "17             1.306874e+06         30.135476  \n",
      "18             1.202197e+06         36.484526  \n",
      "19             9.944738e+05         45.063673  \n"
     ]
    }
   ],
   "source": [
    "n=14\n",
    "for i in range(1,len(df)):\n",
    "    if (df.loc[i, 'Typical Price']> df.loc[i-1, 'Typical Price']):\n",
    "        pmf = df.loc[i,'Typical Price']* df.loc[i,'Volume']\n",
    "        df.loc[i,'Positive Money Flow'] = pmf\n",
    "    elif (df.loc[i, 'Typical Price']< df.loc[i-1, 'Typical Price']):\n",
    "        nmf = df.loc[i,'Typical Price']* df.loc[i,'Volume']\n",
    "        df.loc[i,'Negative Money Flow'] = nmf\n",
    "i=1\n",
    "while(n<len(df)):\n",
    "    pmfs = df.loc[i:n,'Positive Money Flow'].sum()\n",
    "    df.loc[n,'Positive Money Flow Sum'] = pmfs\n",
    "    nmfs = df.loc[i:n,'Negative Money Flow'].sum()\n",
    "    df.loc[n,'Negative Money Flow Sum'] = nmfs\n",
    "    mr= df.loc[n,'Positive Money Flow Sum']/df.loc[n,'Negative Money Flow Sum']\n",
    "    mfi = 100*mr/(1+mr)\n",
    "    df.loc[n,'Money Flow index'] =mfi\n",
    "    #print(nmfs)\n",
    "    n+=1\n",
    "    i+=1\n",
    "print(df)"
   ]
  },
  {
   "cell_type": "code",
   "execution_count": null,
   "metadata": {},
   "outputs": [],
   "source": []
  }
 ],
 "metadata": {
  "kernelspec": {
   "display_name": "Python 3",
   "language": "python",
   "name": "python3"
  },
  "language_info": {
   "codemirror_mode": {
    "name": "ipython",
    "version": 3
   },
   "file_extension": ".py",
   "mimetype": "text/x-python",
   "name": "python",
   "nbconvert_exporter": "python",
   "pygments_lexer": "ipython3",
   "version": "3.7.0"
  }
 },
 "nbformat": 4,
 "nbformat_minor": 2
}
